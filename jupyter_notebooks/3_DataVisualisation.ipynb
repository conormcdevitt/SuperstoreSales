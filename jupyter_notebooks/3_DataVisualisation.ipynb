{
 "cells": [
  {
   "cell_type": "markdown",
   "metadata": {},
   "source": [
    "# Data Visualisations with statistical tests"
   ]
  },
  {
   "cell_type": "markdown",
   "metadata": {},
   "source": [
    "# Objectives"
   ]
  },
  {
   "cell_type": "markdown",
   "metadata": {},
   "source": [
    "This notebook aims to visually explore and statistically test the hypotheses that have been outlined in my readme file."
   ]
  },
  {
   "cell_type": "markdown",
   "metadata": {},
   "source": [
    "1. Analysing the impact of discounts on profitability: I aim to determine whether or not higher discount rates lead to reduced profits.\n",
    "2. I aim to evaluate the profitability of different product categories by identifying which categories and sub-categories generate the most profit.\n",
    "3. Determine whether certain shipping modes or regions result in longer delivery times.\n",
    "4. Examine whether larger orders lead to higher profits."
   ]
  },
  {
   "cell_type": "markdown",
   "metadata": {},
   "source": [
    "# Preparing the data for visualisation"
   ]
  },
  {
   "cell_type": "code",
   "execution_count": 2,
   "metadata": {},
   "outputs": [
    {
     "name": "stdout",
     "output_type": "stream",
     "text": [
      "Changed working directory to: C:\\Users\\conor\\Desktop\\DA course\\SuperstoreSales\n"
     ]
    }
   ],
   "source": [
    "import os\n",
    "\n",
    "# Define the correct project root\n",
    "project_root = \"C:\\\\Users\\\\conor\\\\Desktop\\\\DA course\\\\SuperstoreSales\"\n",
    "\n",
    "# Move up only if currently in the 'jupyter_notebooks' folder\n",
    "if \"jupyter_notebooks\" in os.getcwd():\n",
    "    os.chdir(project_root)\n",
    "    print(f\"Changed working directory to: {os.getcwd()}\")\n",
    "else:\n",
    "    print(f\"Already in the correct directory: {os.getcwd()}\")"
   ]
  },
  {
   "cell_type": "code",
   "execution_count": 4,
   "metadata": {},
   "outputs": [
    {
     "data": {
      "text/html": [
       "<div>\n",
       "<style scoped>\n",
       "    .dataframe tbody tr th:only-of-type {\n",
       "        vertical-align: middle;\n",
       "    }\n",
       "\n",
       "    .dataframe tbody tr th {\n",
       "        vertical-align: top;\n",
       "    }\n",
       "\n",
       "    .dataframe thead th {\n",
       "        text-align: right;\n",
       "    }\n",
       "</style>\n",
       "<table border=\"1\" class=\"dataframe\">\n",
       "  <thead>\n",
       "    <tr style=\"text-align: right;\">\n",
       "      <th></th>\n",
       "      <th>Order ID</th>\n",
       "      <th>Order Date</th>\n",
       "      <th>Ship Date</th>\n",
       "      <th>Ship Mode</th>\n",
       "      <th>Segment</th>\n",
       "      <th>City</th>\n",
       "      <th>State</th>\n",
       "      <th>Region</th>\n",
       "      <th>Product ID</th>\n",
       "      <th>Category</th>\n",
       "      <th>Sub-Category</th>\n",
       "      <th>Sales</th>\n",
       "      <th>Quantity</th>\n",
       "      <th>Discount</th>\n",
       "      <th>Profit</th>\n",
       "      <th>Delivery Time</th>\n",
       "      <th>Profit Margin</th>\n",
       "      <th>Total Discount Effect</th>\n",
       "      <th>Order Month</th>\n",
       "    </tr>\n",
       "  </thead>\n",
       "  <tbody>\n",
       "    <tr>\n",
       "      <th>0</th>\n",
       "      <td>CA-2016-152156</td>\n",
       "      <td>2016-11-08</td>\n",
       "      <td>2016-11-11</td>\n",
       "      <td>Second Class</td>\n",
       "      <td>Consumer</td>\n",
       "      <td>Henderson</td>\n",
       "      <td>Kentucky</td>\n",
       "      <td>South</td>\n",
       "      <td>FUR-BO-10001798</td>\n",
       "      <td>Furniture</td>\n",
       "      <td>Bookcases</td>\n",
       "      <td>261.9600</td>\n",
       "      <td>2</td>\n",
       "      <td>0.00</td>\n",
       "      <td>41.913600</td>\n",
       "      <td>3</td>\n",
       "      <td>0.160000</td>\n",
       "      <td>0.00</td>\n",
       "      <td>2016-11</td>\n",
       "    </tr>\n",
       "    <tr>\n",
       "      <th>1</th>\n",
       "      <td>CA-2016-152156</td>\n",
       "      <td>2016-11-08</td>\n",
       "      <td>2016-11-11</td>\n",
       "      <td>Second Class</td>\n",
       "      <td>Consumer</td>\n",
       "      <td>Henderson</td>\n",
       "      <td>Kentucky</td>\n",
       "      <td>South</td>\n",
       "      <td>FUR-CH-10000454</td>\n",
       "      <td>Furniture</td>\n",
       "      <td>Chairs</td>\n",
       "      <td>731.9400</td>\n",
       "      <td>3</td>\n",
       "      <td>0.00</td>\n",
       "      <td>219.582000</td>\n",
       "      <td>3</td>\n",
       "      <td>0.300000</td>\n",
       "      <td>0.00</td>\n",
       "      <td>2016-11</td>\n",
       "    </tr>\n",
       "    <tr>\n",
       "      <th>2</th>\n",
       "      <td>CA-2016-138688</td>\n",
       "      <td>2016-06-12</td>\n",
       "      <td>2016-06-16</td>\n",
       "      <td>Second Class</td>\n",
       "      <td>Corporate</td>\n",
       "      <td>Los Angeles</td>\n",
       "      <td>California</td>\n",
       "      <td>West</td>\n",
       "      <td>OFF-LA-10000240</td>\n",
       "      <td>Office Supplies</td>\n",
       "      <td>Labels</td>\n",
       "      <td>14.6200</td>\n",
       "      <td>2</td>\n",
       "      <td>0.00</td>\n",
       "      <td>6.871400</td>\n",
       "      <td>4</td>\n",
       "      <td>0.470000</td>\n",
       "      <td>0.00</td>\n",
       "      <td>2016-06</td>\n",
       "    </tr>\n",
       "    <tr>\n",
       "      <th>3</th>\n",
       "      <td>US-2015-108966</td>\n",
       "      <td>2015-10-11</td>\n",
       "      <td>2015-10-18</td>\n",
       "      <td>Standard Class</td>\n",
       "      <td>Consumer</td>\n",
       "      <td>Fort Lauderdale</td>\n",
       "      <td>Florida</td>\n",
       "      <td>South</td>\n",
       "      <td>FUR-TA-10000577</td>\n",
       "      <td>Furniture</td>\n",
       "      <td>Tables</td>\n",
       "      <td>957.5775</td>\n",
       "      <td>5</td>\n",
       "      <td>0.45</td>\n",
       "      <td>-319.264953</td>\n",
       "      <td>7</td>\n",
       "      <td>-0.333409</td>\n",
       "      <td>2.25</td>\n",
       "      <td>2015-10</td>\n",
       "    </tr>\n",
       "    <tr>\n",
       "      <th>4</th>\n",
       "      <td>US-2015-108966</td>\n",
       "      <td>2015-10-11</td>\n",
       "      <td>2015-10-18</td>\n",
       "      <td>Standard Class</td>\n",
       "      <td>Consumer</td>\n",
       "      <td>Fort Lauderdale</td>\n",
       "      <td>Florida</td>\n",
       "      <td>South</td>\n",
       "      <td>OFF-ST-10000760</td>\n",
       "      <td>Office Supplies</td>\n",
       "      <td>Storage</td>\n",
       "      <td>22.3680</td>\n",
       "      <td>2</td>\n",
       "      <td>0.20</td>\n",
       "      <td>2.516400</td>\n",
       "      <td>7</td>\n",
       "      <td>0.112500</td>\n",
       "      <td>0.40</td>\n",
       "      <td>2015-10</td>\n",
       "    </tr>\n",
       "  </tbody>\n",
       "</table>\n",
       "</div>"
      ],
      "text/plain": [
       "         Order ID  Order Date   Ship Date       Ship Mode    Segment  \\\n",
       "0  CA-2016-152156  2016-11-08  2016-11-11    Second Class   Consumer   \n",
       "1  CA-2016-152156  2016-11-08  2016-11-11    Second Class   Consumer   \n",
       "2  CA-2016-138688  2016-06-12  2016-06-16    Second Class  Corporate   \n",
       "3  US-2015-108966  2015-10-11  2015-10-18  Standard Class   Consumer   \n",
       "4  US-2015-108966  2015-10-11  2015-10-18  Standard Class   Consumer   \n",
       "\n",
       "              City       State Region       Product ID         Category  \\\n",
       "0        Henderson    Kentucky  South  FUR-BO-10001798        Furniture   \n",
       "1        Henderson    Kentucky  South  FUR-CH-10000454        Furniture   \n",
       "2      Los Angeles  California   West  OFF-LA-10000240  Office Supplies   \n",
       "3  Fort Lauderdale     Florida  South  FUR-TA-10000577        Furniture   \n",
       "4  Fort Lauderdale     Florida  South  OFF-ST-10000760  Office Supplies   \n",
       "\n",
       "  Sub-Category     Sales  Quantity  Discount      Profit  Delivery Time  \\\n",
       "0    Bookcases  261.9600         2      0.00   41.913600              3   \n",
       "1       Chairs  731.9400         3      0.00  219.582000              3   \n",
       "2       Labels   14.6200         2      0.00    6.871400              4   \n",
       "3       Tables  957.5775         5      0.45 -319.264953              7   \n",
       "4      Storage   22.3680         2      0.20    2.516400              7   \n",
       "\n",
       "   Profit Margin  Total Discount Effect Order Month  \n",
       "0       0.160000                   0.00     2016-11  \n",
       "1       0.300000                   0.00     2016-11  \n",
       "2       0.470000                   0.00     2016-06  \n",
       "3      -0.333409                   2.25     2015-10  \n",
       "4       0.112500                   0.40     2015-10  "
      ]
     },
     "execution_count": 4,
     "metadata": {},
     "output_type": "execute_result"
    }
   ],
   "source": [
    "# Import libraries that will be used throughout the notebook\n",
    "import pandas as pd\n",
    "import seaborn as sns\n",
    "import matplotlib.pyplot as plt\n",
    "import plotly.express as px\n",
    "\n",
    "# Load cleaned dataset and ensure it is displaying correctly\n",
    "df = pd.read_csv('Cleaned_data\\\\superstore_cleaned.csv')\n",
    "df.head()"
   ]
  },
  {
   "cell_type": "markdown",
   "metadata": {},
   "source": [
    "# Section 1"
   ]
  },
  {
   "cell_type": "markdown",
   "metadata": {},
   "source": [
    "Hyposthesis: Discounts impact profitability negatively."
   ]
  },
  {
   "cell_type": "code",
   "execution_count": null,
   "metadata": {},
   "outputs": [],
   "source": [
    "# Scatter plot showing Discount vs Profit\n",
    "\n",
    "\n"
   ]
  }
 ],
 "metadata": {
  "kernelspec": {
   "display_name": ".venv",
   "language": "python",
   "name": "python3"
  },
  "language_info": {
   "codemirror_mode": {
    "name": "ipython",
    "version": 3
   },
   "file_extension": ".py",
   "mimetype": "text/x-python",
   "name": "python",
   "nbconvert_exporter": "python",
   "pygments_lexer": "ipython3",
   "version": "3.12.8"
  }
 },
 "nbformat": 4,
 "nbformat_minor": 2
}
